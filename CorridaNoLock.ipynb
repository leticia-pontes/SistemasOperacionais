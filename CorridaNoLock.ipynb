{
  "cells": [
    {
      "cell_type": "markdown",
      "metadata": {
        "id": "k4aFgT2IIKcu"
      },
      "source": [
        "🧠 O que acontece aqui:\n",
        "Duas ou mais threads acessam e modificam a mesma variável global (contador) ao mesmo tempo.\n",
        "\n",
        "A linha **atual = contador** copia o valor atual da variável.\n",
        "\n",
        "Com o sleep, forçamos um atraso que simula uma janela crítica: outra thread pode modificar contador enquanto a primeira ainda está usando o valor antigo.\n",
        "\n",
        "Quando a thread retoma e faz contador = atual + 1, ela sobrescreve o valor atualizado pela outra, causando perda de incrementos.\n",
        "\n",
        "🧯 Resultado:\n",
        "O valor final do contador é frequentemente menor que o esperado (200000).\n",
        "\n",
        "Isso é o clássico exemplo de **condição de corrida**: duas threads competem pelo mesmo recurso sem coordenação."
      ]
    },
    {
      "cell_type": "code",
      "execution_count": null,
      "metadata": {
        "colab": {
          "base_uri": "https://localhost:8080/"
        },
        "id": "Fqd_XXU-IHK7",
        "outputId": "990d3f45-18f1-47d4-8c14-dc60dae991be"
      },
      "outputs": [
        {
          "name": "stdout",
          "output_type": "stream",
          "text": [
            "Executando versão SEM LOCK...\n",
            "Thread B terminou.\n",
            "Thread A terminou.\n",
            "\n",
            "[SEM LOCK] Valor final do contador: 100000\n",
            "Tempo total: 8.9072 segundos\n",
            "\n"
          ]
        }
      ],
      "source": [
        "import threading\n",
        "import time\n",
        "\n",
        "contador = 0\n",
        "\n",
        "def incrementar(nome_thread):\n",
        "    global contador\n",
        "    for _ in range(100000):\n",
        "        atual = contador\n",
        "        time.sleep(0.00001)  # Atraso proposital para simular disputa\n",
        "        contador = atual + 1\n",
        "    print(f\"Thread {nome_thread} terminou.\")\n",
        "\n",
        "def main():\n",
        "    global contador\n",
        "    contador = 0\n",
        "\n",
        "    thread1 = threading.Thread(target=incrementar, args=(\"A\",))\n",
        "    thread2 = threading.Thread(target=incrementar, args=(\"B\",))\n",
        "\n",
        "    print(\"Executando versão SEM LOCK...\")\n",
        "    inicio = time.time()\n",
        "\n",
        "    thread1.start()\n",
        "    thread2.start()\n",
        "\n",
        "    thread1.join()\n",
        "    thread2.join()\n",
        "\n",
        "    fim = time.time()\n",
        "    print(f\"\\n[SEM LOCK] Valor final do contador: {contador}\")\n",
        "    print(f\"Tempo total: {fim - inicio:.4f} segundos\\n\")\n",
        "\n",
        "if __name__ == \"__main__\":\n",
        "    main()\n"
      ]
    },
    {
      "cell_type": "markdown",
      "metadata": {
        "id": "JEesFvthIZDS"
      },
      "source": [
        "\n",
        "\n",
        "**Sem Lock**\n",
        "\n",
        "*  Valor final do contador\t: Variável (frequentemente errado)\n",
        "*  Segurança da concorrência\t: ❌ Vulnerável a race conditions\n",
        "*  Facilidade de depuração\t: Difícil (bugs intermitentes)\n",
        "*  Velocidade : Pode ser ligeiramente mais rápida, mas com erros"
      ]
    }
  ],
  "metadata": {
    "colab": {
      "provenance": []
    },
    "kernelspec": {
      "display_name": "Python 3",
      "name": "python3"
    },
    "language_info": {
      "name": "python"
    }
  },
  "nbformat": 4,
  "nbformat_minor": 0
}
