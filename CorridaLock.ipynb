{
  "cells": [
    {
      "cell_type": "markdown",
      "metadata": {
        "id": "XCzEbslNApRH"
      },
      "source": [
        "🧠 O que acontece aqui:\n",
        "O lock funciona como uma trava de exclusão mútua (mutex).\n",
        "\n",
        "Apenas uma thread por vez pode entrar no bloco with lock.\n",
        "\n",
        "Enquanto uma thread está atualizando o contador, as outras ficam esperando.\n",
        "\n",
        "Isso previne a condição de corrida, garantindo que contador sempre será atualizado corretamente.\n",
        "\n",
        "🔒 Como funciona o lock:\n",
        "with lock: automaticamente:\n",
        "\n",
        "Adquire o lock no início.\n",
        "\n",
        "Libera o lock no final do bloco.\n",
        "\n",
        "Isso garante que o trecho crítico (contador += 1) seja atômico — ou seja, não pode ser interrompido no meio.\n",
        "\n"
      ]
    },
    {
      "cell_type": "code",
      "execution_count": 1,
      "metadata": {
        "colab": {
          "base_uri": "https://localhost:8080/"
        },
        "id": "jCjlzk3v_NoR",
        "outputId": "5ed2f095-d021-4133-8552-81c90f452c8b"
      },
      "outputs": [
        {
          "name": "stdout",
          "output_type": "stream",
          "text": [
            "Executando versão COM LOCK...\n",
            "Thread B terminou.\n",
            "Thread A terminou.\n",
            "\n",
            "[COM LOCK] Valor final do contador: 200000\n",
            "Tempo total: 8.8746 segundos\n",
            "\n"
          ]
        }
      ],
      "source": [
        "import threading\n",
        "import time\n",
        "\n",
        "contador = 0\n",
        "lock = threading.Lock()\n",
        "\n",
        "def incrementar(nome_thread):\n",
        "    global contador\n",
        "    for _ in range(100000):\n",
        "        time.sleep(0.00001)\n",
        "        with lock:\n",
        "            contador += 1\n",
        "    print(f\"Thread {nome_thread} terminou.\")\n",
        "\n",
        "def main():\n",
        "    global contador\n",
        "    contador = 0\n",
        "\n",
        "    thread1 = threading.Thread(target=incrementar, args=(\"A\",))\n",
        "    thread2 = threading.Thread(target=incrementar, args=(\"B\",))\n",
        "\n",
        "    print(\"Executando versão COM LOCK...\")\n",
        "    inicio = time.time()\n",
        "\n",
        "    thread1.start()\n",
        "    thread2.start()\n",
        "\n",
        "    thread1.join()\n",
        "    thread2.join()\n",
        "\n",
        "    fim = time.time()\n",
        "    print(f\"\\n[COM LOCK] Valor final do contador: {contador}\")\n",
        "    print(f\"Tempo total: {fim - inicio:.4f} segundos\\n\")\n",
        "\n",
        "if __name__ == \"__main__\":\n",
        "    main()\n"
      ]
    },
    {
      "cell_type": "markdown",
      "metadata": {
        "id": "jH4igQ8jA3HY"
      },
      "source": [
        "Resumindo:\n",
        "\n",
        "**Com Lock**\n",
        "\n",
        "\n",
        "*  Valor final do contador\t: Sempre correto (200000)\n",
        "*  Segurança da concorrência\t: ✅ Protegido por exclusão mútua\n",
        "*  Facilidade de depuração\t: Fácil de validar\n",
        "*  Velocidade : Mais lenta, porém segura\n",
        "\n",
        "\n",
        "\n",
        "\n",
        "\n",
        "\n"
      ]
    }
  ],
  "metadata": {
    "colab": {
      "provenance": []
    },
    "kernelspec": {
      "display_name": "Python 3",
      "name": "python3"
    },
    "language_info": {
      "name": "python"
    }
  },
  "nbformat": 4,
  "nbformat_minor": 0
}
