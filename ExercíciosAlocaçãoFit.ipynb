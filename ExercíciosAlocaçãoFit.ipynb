{
 "cells": [
  {
   "cell_type": "markdown",
   "id": "0b2122bf",
   "metadata": {},
   "source": [
    "🟢 Cenário 1 – Básico e simétrico\n",
    "Para treinar o funcionamento dos algoritmos com resultados previsíveis.\n",
    "\n",
    "* Blocos de memória: [100, 500, 200, 300, 600]\n",
    "* Processos: [212, 417, 112, 426]\n",
    "\n",
    "✅ Objetivo didático:\n",
    "* Comparar como cada algoritmo aloca os mesmos processos.\n",
    "* Mostrar que First Fit nem sempre é o mais eficiente.\n"
   ]
  },
  {
   "cell_type": "markdown",
   "id": "a2822976",
   "metadata": {},
   "source": [
    "First fit: é mais rápido, uma vez que encerra a busca por memória disponível assim que encontra espaço suficiente para o processo. Porém, por esse mesmo motivo (encaixar no primeiro espaço disponível), pode levar mais tempo para executar vários processos, uma vez que, ao alocar um bloco de memória, possivelmente haverá desperdício de memória, restando vários fragmentos menores de memória inutilizada. Com isso, eventualmente, pode não haver espaço para alocar alguns processos, precisando de métodos para contornar essa situação. É bom para casos onde o tempo é um fator crucial na execução nos processos.\n",
    "\n",
    "Best fit: é mais lento que o first fit, porque passa por todos os blocos disponíveis para verificar qual bloco que, ao ser alocado, terá o menor desperdício. Por esse motivo, a chance de algum processo não ser alocado é menor. Porém, por conseguir alocar todos mais facilmente, as unidades de memória disponíveis são menores. Caso a quantidade de memória disponível/reservada seja importante para o programa/sistema, o best fit pode não ser a melhor escolha.\n",
    "\n",
    "Worst fit: busca pelo bloco de memória que, ao ser alocado, resultará num maior desperdício (mais unidades de memória livres). Consequentemente, o desperdício de memória é maior. No final, a memória fica fragmentada em blocos menores que os iniciais e pode ficar mais difícil de encaixar alguns processos que sejam mais custosos (tanto que um processo não foi alocado). Por outro lado, a quantidade de memória usada é menor. Logo, no final, haverá uma quantidade razoável de memória livre (ainda que menor que ao usar o first fit)."
   ]
  },
  {
   "cell_type": "markdown",
   "id": "d9568faa",
   "metadata": {},
   "source": [
    "🟡 Cenário 2 – Blocos maiores que processos\n",
    "Baixa fragmentação, mas múltiplas escolhas possíveis.\n",
    "\n",
    "* Blocos de memória: [700, 600, 500, 400, 300]\n",
    "* Processos: [120, 200, 230, 300, 250]\n",
    "\n",
    "✅ Objetivo didático:\n",
    "* Ver que Best Fit usa melhor os blocos.\n",
    "* Worst Fit pode deixar muitos blocos inutilizáveis."
   ]
  },
  {
   "cell_type": "markdown",
   "id": "7c840c1d",
   "metadata": {},
   "source": [
    "First fit: todos os processos foram alocados, porém o desperdício foi grande e não sobraram unidades de memória (do contrário, o desperdício foi maior que a quantidade de memória usada).\n",
    "\n",
    "Best fit: o desperdício foi pequeno, logo sobraram muitas unidade de memória.\n",
    "\n",
    "Worst fit: também houve um gasto enorme de memória. O desperdício foi maior que o uso de memória."
   ]
  },
  {
   "cell_type": "markdown",
   "id": "721365e2",
   "metadata": {},
   "source": [
    "🟠 Cenário 3 – Fragmentação causada pela ordem dos blocos\n",
    "Todos os processos cabem, mas a ordem muda tudo.\n",
    "\n",
    "* Blocos de memória: [300, 200, 100, 400, 500]\n",
    "* Processos: [100, 300, 400]\n",
    "\n",
    "✅ Objetivo didático:\n",
    "* Mudar a ordem dos blocos e comparar os resultados.\n",
    "* Analisar o impacto da ordem em First Fit."
   ]
  },
  {
   "cell_type": "markdown",
   "id": "48625281",
   "metadata": {},
   "source": [
    "First fit: o desperdício foi relativamente grande, dada a quantidade de memória total usada e a quantidade de memória disponível. Ao colocar os blocos em ordem crescente, o desperdício foi menor. Mesmo assim, depende da ordem dos blocos.\n",
    "\n",
    "Best fit: não houve desperdício de memória, sobrou bastante unidades de memória.\n",
    "\n",
    "Worst fit: mesmo caso do first fit. Dependendo da ordem dos blocos, o desperdício pode ser maior. Em um único caso o desperdício foi 0."
   ]
  },
  {
   "cell_type": "markdown",
   "id": "8531a760",
   "metadata": {},
   "source": [
    "🔵 Cenário 4 – Processo grande só cabe em 1 bloco\n",
    "Mostra como fragmentação pode impedir grandes processos mesmo com bastante memória livre.\n",
    "\n",
    "* Blocos de memória: [150, 200, 300, 350, 400]\n",
    "* Processos: [80, 120, 90, 500]\n",
    "\n",
    "✅ Objetivo didático:\n",
    "* Observar qual algoritmo é mais propenso a deixar o processo de 500 sem espaço.\n",
    "* Introdução ao problema de fragmentação externa."
   ]
  },
  {
   "cell_type": "markdown",
   "id": "b3ab6468",
   "metadata": {},
   "source": [
    "First fit: o desperdício foi maior que o uso de memória, mas ainda assim a quantidade restante foi grande. Por isso, ao reordenar os blocos livres, é possível encaixar o processo de 500.\n",
    "\n",
    "Best fit: assim como o first fit, o desperdício foi maior que o uso de memória e a quantidade restante foi grande. Também é possível reordenar os blocos disponíveis para encaixar o processo de 500.\n",
    "\n",
    "Worst fit: o desperdício foi muito maior que a memória usada. Além disso, com a fragmentação da memória, as unidades livres não são suficientes para encaixar o processo de 500."
   ]
  },
  {
   "cell_type": "markdown",
   "id": "b010e664",
   "metadata": {},
   "source": [
    "🔴 Cenário 5 – Memória limitada, processos pequenos\n",
    "Sistema embarcado ou restrito.\n",
    "\n",
    "* Blocos de memória: [128, 64, 256, 128]\n",
    "* Processos: [64, 32, 128, 96, 256]\n",
    "\n",
    "✅ Objetivo didático:\n",
    "* Mostrar a dificuldade de alocar vários processos em blocos pequenos.\n",
    "* Comparar qual algoritmo consegue alocar mais."
   ]
  },
  {
   "cell_type": "markdown",
   "id": "5601b1ef",
   "metadata": {},
   "source": [
    "First fit: não conseguiu alocar todos os processos e não sobrou espaço para reordenar e alocar mais unidades de memória.\n",
    "\n",
    "Best fit: embora o desperdício tenha sido pequeno, toda a memória foi usada (três processos ocuparam todo o espaço de um bloco). Logo, sobraram -96 unidades livres.\n",
    "\n",
    "Worst fit: nem todos os processos foram alocados. Além disso, o desperdício foi muito grande em alguns blocos. No final, o desperdício foi maior que a memória usada e muito próxima da memória total disponível, o que resultou em muitas unidades livres negativas."
   ]
  },
  {
   "cell_type": "markdown",
   "id": "c18b0587",
   "metadata": {},
   "source": [
    "⚫ Cenário 6 – Alta fragmentação esperada\n",
    "Forçar os algoritmos a desperdiçar memória.\n",
    "\n",
    "* Blocos de memória: [130, 130, 130, 130, 130]\n",
    "* Processos: [120, 125, 124, 110, 119]\n",
    "\n",
    "✅ Objetivo didático:\n",
    "* Observar que todos os algoritmos deixam pequenos fragmentos inutilizados.\n",
    "* Introdução ao conceito de desperdício cumulativo."
   ]
  },
  {
   "cell_type": "markdown",
   "id": "4c481939",
   "metadata": {},
   "source": [
    "Todos os algoritmos resultaram em 0 unidades disponíveis. Todos consumiram a mesma quantidade de memória e o desperdício foi o mesmo."
   ]
  },
  {
   "cell_type": "markdown",
   "id": "ece63e4f",
   "metadata": {},
   "source": [
    "Para cada cenário:\n",
    "\n",
    "* Testar os três algoritmos.\n",
    "* Medir:\n",
    "    * Quais processos foram alocados?\n",
    "    * Qual foi o total de memória usada?\n",
    "    * Qual foi o desperdício total (fragmentação interna)?\n",
    "    * Qual foi a memória totalmente livre ao final?\n",
    "* Concluir:\n",
    "    * Qual algoritmo foi mais eficiente e por quê?\n",
    "    * Qual desperdiçou mais memória?"
   ]
  },
  {
   "cell_type": "markdown",
   "id": "7682f502",
   "metadata": {},
   "source": [
    "O Best Fit foi o mais eficiente porque, ao procurar o menor bloco possível que ainda caiba o processo, ele minimiza o desperdício e fragmentação, mesmo que seja mais lento na busca.\n",
    "\n",
    "O Worst Fit tende a deixar grandes pedaços de memória inutilizáveis, promovendo alta fragmentação externa e ineficiência, especialmente quando há muitos processos ou a memória é limitada."
   ]
  }
 ],
 "metadata": {
  "language_info": {
   "name": "python"
  }
 },
 "nbformat": 4,
 "nbformat_minor": 5
}
