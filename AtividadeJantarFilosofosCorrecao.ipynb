{
 "cells": [
  {
   "cell_type": "code",
   "execution_count": null,
   "id": "3c3ca258",
   "metadata": {},
   "outputs": [],
   "source": [
    "import threading\n",
    "import time\n",
    "import random\n",
    "\n",
    "N = 5 # Número de filósofos (e garfos)\n",
    "\n",
    "garfos = [threading.Lock() for _ in range(N)]\n",
    "\n",
    "def filosofo(i):\n",
    "    esquerda = garfos[i]\n",
    "    direita = garfos[(i + 1) % N]\n",
    "\n",
    "    while True:\n",
    "        print(f\"Filósofo {i} está pensando...\")\n",
    "        time.sleep(random.uniform(0.5, 1.5))\n",
    "        print(f\"Filósofo {i} está com fome.\")\n",
    "\n",
    "        # Define a ordem de pegar os garfos para evitar deadlock\n",
    "        # Filósofos pares pegam esquerda depois direita; ímpares fazem o oposto\n",
    "        primeiro, segundo = (esquerda, direita) if i % 2 == 0 else (direita, esquerda)\n",
    "\n",
    "        # Tenta pegar os dois garfos com \"with\", que faz o acquire/release automático\n",
    "        with primeiro:\n",
    "            with segundo:\n",
    "                print(f\"Filósofo {i} está comendo.\")\n",
    "                time.sleep(random.uniform(0.5, 1.5))\n",
    "                print(f\"Filósofo {i} terminou de comer.\")\n",
    "\n",
    "for i in range(N):\n",
    "    threading.Thread(target=filosofo, args=(i,), daemon=True).start()\n",
    "\n",
    "time.sleep(10)"
   ]
  }
 ],
 "metadata": {
  "kernelspec": {
   "display_name": "Python 3",
   "language": "python",
   "name": "python3"
  },
  "language_info": {
   "codemirror_mode": {
    "name": "ipython",
    "version": 3
   },
   "file_extension": ".py",
   "mimetype": "text/x-python",
   "name": "python",
   "nbconvert_exporter": "python",
   "pygments_lexer": "ipython3",
   "version": "3.12.6"
  }
 },
 "nbformat": 4,
 "nbformat_minor": 5
}
